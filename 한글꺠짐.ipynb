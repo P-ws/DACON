{
 "cells": [
  {
   "cell_type": "code",
   "execution_count": null,
   "id": "c7cc58b3-a2a7-4524-a1f9-045c82587bbe",
   "metadata": {},
   "outputs": [],
   "source": [
    "import matplotlib \n",
    "\n",
    "matplotlib.font_manager._rebuild()\n",
    "\n",
    "plt.rc(\"font\", family=\"Malgun Gothic\")"
   ]
  }
 ],
 "metadata": {
  "kernelspec": {
   "display_name": "Python 3",
   "language": "python",
   "name": "python3"
  },
  "language_info": {
   "codemirror_mode": {
    "name": "ipython",
    "version": 3
   },
   "file_extension": ".py",
   "mimetype": "text/x-python",
   "name": "python",
   "nbconvert_exporter": "python",
   "pygments_lexer": "ipython3",
   "version": "3.8.8"
  }
 },
 "nbformat": 4,
 "nbformat_minor": 5
}
