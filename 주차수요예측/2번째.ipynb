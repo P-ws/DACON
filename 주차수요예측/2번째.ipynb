{
 "cells": [
  {
   "cell_type": "code",
   "execution_count": 1,
   "id": "7024cfd6-7990-44bd-a27b-afbf8271aa7c",
   "metadata": {},
   "outputs": [],
   "source": [
    "import pandas as pd\n",
    "import numpy as np\n",
    "import matplotlib.pyplot as plt\n",
    "import seaborn as sns\n",
    "from sklearn.preprocessing import LabelEncoder\n",
    "pd.options.display.float_format = '{:.1f}'.format"
   ]
  },
  {
   "cell_type": "code",
   "execution_count": 2,
   "id": "4c10d18f-8f2c-4ab5-ac46-d2d49262688c",
   "metadata": {},
   "outputs": [],
   "source": [
    "train = pd.read_csv('Parking_data/train.csv')\n",
    "test = pd.read_csv('Parking_data/test.csv')"
   ]
  },
  {
   "cell_type": "code",
   "execution_count": 3,
   "id": "b0736144-bf82-44fb-87a5-eab89979722f",
   "metadata": {},
   "outputs": [
    {
     "data": {
      "text/html": [
       "<div>\n",
       "<style scoped>\n",
       "    .dataframe tbody tr th:only-of-type {\n",
       "        vertical-align: middle;\n",
       "    }\n",
       "\n",
       "    .dataframe tbody tr th {\n",
       "        vertical-align: top;\n",
       "    }\n",
       "\n",
       "    .dataframe thead th {\n",
       "        text-align: right;\n",
       "    }\n",
       "</style>\n",
       "<table border=\"1\" class=\"dataframe\">\n",
       "  <thead>\n",
       "    <tr style=\"text-align: right;\">\n",
       "      <th></th>\n",
       "      <th>단지코드</th>\n",
       "      <th>총세대수</th>\n",
       "      <th>임대건물구분</th>\n",
       "      <th>지역</th>\n",
       "      <th>공급유형</th>\n",
       "      <th>전용면적</th>\n",
       "      <th>전용면적별세대수</th>\n",
       "      <th>공가수</th>\n",
       "      <th>자격유형</th>\n",
       "      <th>임대보증금</th>\n",
       "      <th>임대료</th>\n",
       "      <th>도보 10분거리 내 지하철역 수(환승노선 수 반영)</th>\n",
       "      <th>도보 10분거리 내 버스정류장 수</th>\n",
       "      <th>단지내주차면수</th>\n",
       "      <th>등록차량수</th>\n",
       "    </tr>\n",
       "  </thead>\n",
       "  <tbody>\n",
       "    <tr>\n",
       "      <th>0</th>\n",
       "      <td>C2483</td>\n",
       "      <td>900</td>\n",
       "      <td>아파트</td>\n",
       "      <td>경상북도</td>\n",
       "      <td>국민임대</td>\n",
       "      <td>39.7</td>\n",
       "      <td>134</td>\n",
       "      <td>38.0</td>\n",
       "      <td>A</td>\n",
       "      <td>15667000</td>\n",
       "      <td>103680</td>\n",
       "      <td>0.0</td>\n",
       "      <td>3.0</td>\n",
       "      <td>1425.0</td>\n",
       "      <td>1015.0</td>\n",
       "    </tr>\n",
       "    <tr>\n",
       "      <th>1</th>\n",
       "      <td>C2483</td>\n",
       "      <td>900</td>\n",
       "      <td>아파트</td>\n",
       "      <td>경상북도</td>\n",
       "      <td>국민임대</td>\n",
       "      <td>39.7</td>\n",
       "      <td>15</td>\n",
       "      <td>38.0</td>\n",
       "      <td>A</td>\n",
       "      <td>15667000</td>\n",
       "      <td>103680</td>\n",
       "      <td>0.0</td>\n",
       "      <td>3.0</td>\n",
       "      <td>1425.0</td>\n",
       "      <td>1015.0</td>\n",
       "    </tr>\n",
       "    <tr>\n",
       "      <th>2</th>\n",
       "      <td>C2483</td>\n",
       "      <td>900</td>\n",
       "      <td>아파트</td>\n",
       "      <td>경상북도</td>\n",
       "      <td>국민임대</td>\n",
       "      <td>51.9</td>\n",
       "      <td>385</td>\n",
       "      <td>38.0</td>\n",
       "      <td>A</td>\n",
       "      <td>27304000</td>\n",
       "      <td>184330</td>\n",
       "      <td>0.0</td>\n",
       "      <td>3.0</td>\n",
       "      <td>1425.0</td>\n",
       "      <td>1015.0</td>\n",
       "    </tr>\n",
       "    <tr>\n",
       "      <th>3</th>\n",
       "      <td>C2483</td>\n",
       "      <td>900</td>\n",
       "      <td>아파트</td>\n",
       "      <td>경상북도</td>\n",
       "      <td>국민임대</td>\n",
       "      <td>51.9</td>\n",
       "      <td>15</td>\n",
       "      <td>38.0</td>\n",
       "      <td>A</td>\n",
       "      <td>27304000</td>\n",
       "      <td>184330</td>\n",
       "      <td>0.0</td>\n",
       "      <td>3.0</td>\n",
       "      <td>1425.0</td>\n",
       "      <td>1015.0</td>\n",
       "    </tr>\n",
       "    <tr>\n",
       "      <th>4</th>\n",
       "      <td>C2483</td>\n",
       "      <td>900</td>\n",
       "      <td>아파트</td>\n",
       "      <td>경상북도</td>\n",
       "      <td>국민임대</td>\n",
       "      <td>51.9</td>\n",
       "      <td>41</td>\n",
       "      <td>38.0</td>\n",
       "      <td>A</td>\n",
       "      <td>27304000</td>\n",
       "      <td>184330</td>\n",
       "      <td>0.0</td>\n",
       "      <td>3.0</td>\n",
       "      <td>1425.0</td>\n",
       "      <td>1015.0</td>\n",
       "    </tr>\n",
       "  </tbody>\n",
       "</table>\n",
       "</div>"
      ],
      "text/plain": [
       "    단지코드  총세대수 임대건물구분    지역  공급유형  전용면적  전용면적별세대수  공가수 자격유형     임대보증금     임대료  \\\n",
       "0  C2483   900    아파트  경상북도  국민임대  39.7       134 38.0    A  15667000  103680   \n",
       "1  C2483   900    아파트  경상북도  국민임대  39.7        15 38.0    A  15667000  103680   \n",
       "2  C2483   900    아파트  경상북도  국민임대  51.9       385 38.0    A  27304000  184330   \n",
       "3  C2483   900    아파트  경상북도  국민임대  51.9        15 38.0    A  27304000  184330   \n",
       "4  C2483   900    아파트  경상북도  국민임대  51.9        41 38.0    A  27304000  184330   \n",
       "\n",
       "   도보 10분거리 내 지하철역 수(환승노선 수 반영)  도보 10분거리 내 버스정류장 수  단지내주차면수  등록차량수  \n",
       "0                           0.0                 3.0   1425.0 1015.0  \n",
       "1                           0.0                 3.0   1425.0 1015.0  \n",
       "2                           0.0                 3.0   1425.0 1015.0  \n",
       "3                           0.0                 3.0   1425.0 1015.0  \n",
       "4                           0.0                 3.0   1425.0 1015.0  "
      ]
     },
     "execution_count": 3,
     "metadata": {},
     "output_type": "execute_result"
    }
   ],
   "source": [
    "train.head()"
   ]
  },
  {
   "cell_type": "code",
   "execution_count": 4,
   "id": "293b53b9-43f0-47cc-922e-235d4377be49",
   "metadata": {},
   "outputs": [
    {
     "name": "stdout",
     "output_type": "stream",
     "text": [
      "<class 'pandas.core.frame.DataFrame'>\n",
      "RangeIndex: 2952 entries, 0 to 2951\n",
      "Data columns (total 15 columns):\n",
      " #   Column                        Non-Null Count  Dtype  \n",
      "---  ------                        --------------  -----  \n",
      " 0   단지코드                          2952 non-null   object \n",
      " 1   총세대수                          2952 non-null   int64  \n",
      " 2   임대건물구분                        2952 non-null   object \n",
      " 3   지역                            2952 non-null   object \n",
      " 4   공급유형                          2952 non-null   object \n",
      " 5   전용면적                          2952 non-null   float64\n",
      " 6   전용면적별세대수                      2952 non-null   int64  \n",
      " 7   공가수                           2952 non-null   float64\n",
      " 8   자격유형                          2952 non-null   object \n",
      " 9   임대보증금                         2383 non-null   object \n",
      " 10  임대료                           2383 non-null   object \n",
      " 11  도보 10분거리 내 지하철역 수(환승노선 수 반영)  2741 non-null   float64\n",
      " 12  도보 10분거리 내 버스정류장 수            2948 non-null   float64\n",
      " 13  단지내주차면수                       2952 non-null   float64\n",
      " 14  등록차량수                         2952 non-null   float64\n",
      "dtypes: float64(6), int64(2), object(7)\n",
      "memory usage: 346.1+ KB\n"
     ]
    }
   ],
   "source": [
    "train.info()"
   ]
  },
  {
   "cell_type": "code",
   "execution_count": 5,
   "id": "7d4e10c8-3fda-4ece-bc2d-a4649e2fa472",
   "metadata": {},
   "outputs": [
    {
     "data": {
      "text/plain": [
       "단지코드                              0\n",
       "총세대수                              0\n",
       "임대건물구분                            0\n",
       "지역                                0\n",
       "공급유형                              0\n",
       "전용면적                              0\n",
       "전용면적별세대수                          0\n",
       "공가수                               0\n",
       "자격유형                              0\n",
       "임대보증금                           569\n",
       "임대료                             569\n",
       "도보 10분거리 내 지하철역 수(환승노선 수 반영)    211\n",
       "도보 10분거리 내 버스정류장 수                4\n",
       "단지내주차면수                           0\n",
       "등록차량수                             0\n",
       "dtype: int64"
      ]
     },
     "execution_count": 5,
     "metadata": {},
     "output_type": "execute_result"
    }
   ],
   "source": [
    "train.isna().sum()"
   ]
  },
  {
   "cell_type": "code",
   "execution_count": 8,
   "id": "5e61cd42-d3c1-4aa2-b1d7-8217fb5ebebf",
   "metadata": {},
   "outputs": [],
   "source": [
    "#임대보증금, 임대료 '-' 표시 변환 결측치로\n",
    "train['임대보증금'] = train['임대보증금'].replace('-','').apply(pd.to_numeric)\n",
    "train['임대료'] = train['임대료'].replace('-','').apply(pd.to_numeric)"
   ]
  },
  {
   "cell_type": "code",
   "execution_count": 9,
   "id": "45261ae6-3dea-430c-ac6b-15c071a13a0c",
   "metadata": {},
   "outputs": [
    {
     "data": {
      "text/plain": [
       "단지코드                              0\n",
       "총세대수                              0\n",
       "임대건물구분                            0\n",
       "지역                                0\n",
       "공급유형                              0\n",
       "전용면적                              0\n",
       "전용면적별세대수                          0\n",
       "공가수                               0\n",
       "자격유형                              0\n",
       "임대보증금                           581\n",
       "임대료                             590\n",
       "도보 10분거리 내 지하철역 수(환승노선 수 반영)    211\n",
       "도보 10분거리 내 버스정류장 수                4\n",
       "단지내주차면수                           0\n",
       "등록차량수                             0\n",
       "dtype: int64"
      ]
     },
     "execution_count": 9,
     "metadata": {},
     "output_type": "execute_result"
    }
   ],
   "source": [
    "train.isna().sum()"
   ]
  },
  {
   "cell_type": "markdown",
   "id": "7e4d8aa3-1c83-4ab6-ae18-9dc76fafdb4e",
   "metadata": {},
   "source": [
    "## 상가, 아파트 구분지어서 데이터 다루기"
   ]
  },
  {
   "cell_type": "code",
   "execution_count": 10,
   "id": "1f90cf10-5ca9-4d05-b6c8-ba88a396801e",
   "metadata": {},
   "outputs": [],
   "source": [
    "from sklearn.preprocessing import LabelEncoder\n",
    "encoder = LabelEncoder()\n",
    "encoder.fit(train['임대건물구분'])\n",
    "labels = encoder.transform(train['임대건물구분'])"
   ]
  },
  {
   "cell_type": "code",
   "execution_count": 11,
   "id": "14aa0fbb-17b1-4cff-808d-8bc4034ca04e",
   "metadata": {},
   "outputs": [],
   "source": [
    "train['임대건물구분'] = labels"
   ]
  },
  {
   "cell_type": "code",
   "execution_count": 12,
   "id": "302a6dd2-1dd9-4c97-a33c-744e20b834d8",
   "metadata": {},
   "outputs": [
    {
     "data": {
      "text/plain": [
       "array(['상가', '아파트'], dtype=object)"
      ]
     },
     "execution_count": 12,
     "metadata": {},
     "output_type": "execute_result"
    }
   ],
   "source": [
    "encoder.classes_"
   ]
  },
  {
   "cell_type": "code",
   "execution_count": 13,
   "id": "a41356bc-c441-4c72-bf41-b33f8f14b9db",
   "metadata": {},
   "outputs": [
    {
     "data": {
      "text/html": [
       "<div>\n",
       "<style scoped>\n",
       "    .dataframe tbody tr th:only-of-type {\n",
       "        vertical-align: middle;\n",
       "    }\n",
       "\n",
       "    .dataframe tbody tr th {\n",
       "        vertical-align: top;\n",
       "    }\n",
       "\n",
       "    .dataframe thead th {\n",
       "        text-align: right;\n",
       "    }\n",
       "</style>\n",
       "<table border=\"1\" class=\"dataframe\">\n",
       "  <thead>\n",
       "    <tr style=\"text-align: right;\">\n",
       "      <th></th>\n",
       "      <th>단지코드</th>\n",
       "      <th>총세대수</th>\n",
       "      <th>임대건물구분</th>\n",
       "      <th>지역</th>\n",
       "      <th>공급유형</th>\n",
       "      <th>전용면적</th>\n",
       "      <th>전용면적별세대수</th>\n",
       "      <th>공가수</th>\n",
       "      <th>자격유형</th>\n",
       "      <th>임대보증금</th>\n",
       "      <th>임대료</th>\n",
       "      <th>도보 10분거리 내 지하철역 수(환승노선 수 반영)</th>\n",
       "      <th>도보 10분거리 내 버스정류장 수</th>\n",
       "      <th>단지내주차면수</th>\n",
       "      <th>등록차량수</th>\n",
       "    </tr>\n",
       "  </thead>\n",
       "  <tbody>\n",
       "    <tr>\n",
       "      <th>0</th>\n",
       "      <td>C2483</td>\n",
       "      <td>900</td>\n",
       "      <td>1</td>\n",
       "      <td>경상북도</td>\n",
       "      <td>국민임대</td>\n",
       "      <td>39.7</td>\n",
       "      <td>134</td>\n",
       "      <td>38.0</td>\n",
       "      <td>A</td>\n",
       "      <td>15667000.0</td>\n",
       "      <td>103680.0</td>\n",
       "      <td>0.0</td>\n",
       "      <td>3.0</td>\n",
       "      <td>1425.0</td>\n",
       "      <td>1015.0</td>\n",
       "    </tr>\n",
       "    <tr>\n",
       "      <th>1</th>\n",
       "      <td>C2483</td>\n",
       "      <td>900</td>\n",
       "      <td>1</td>\n",
       "      <td>경상북도</td>\n",
       "      <td>국민임대</td>\n",
       "      <td>39.7</td>\n",
       "      <td>15</td>\n",
       "      <td>38.0</td>\n",
       "      <td>A</td>\n",
       "      <td>15667000.0</td>\n",
       "      <td>103680.0</td>\n",
       "      <td>0.0</td>\n",
       "      <td>3.0</td>\n",
       "      <td>1425.0</td>\n",
       "      <td>1015.0</td>\n",
       "    </tr>\n",
       "    <tr>\n",
       "      <th>2</th>\n",
       "      <td>C2483</td>\n",
       "      <td>900</td>\n",
       "      <td>1</td>\n",
       "      <td>경상북도</td>\n",
       "      <td>국민임대</td>\n",
       "      <td>51.9</td>\n",
       "      <td>385</td>\n",
       "      <td>38.0</td>\n",
       "      <td>A</td>\n",
       "      <td>27304000.0</td>\n",
       "      <td>184330.0</td>\n",
       "      <td>0.0</td>\n",
       "      <td>3.0</td>\n",
       "      <td>1425.0</td>\n",
       "      <td>1015.0</td>\n",
       "    </tr>\n",
       "    <tr>\n",
       "      <th>3</th>\n",
       "      <td>C2483</td>\n",
       "      <td>900</td>\n",
       "      <td>1</td>\n",
       "      <td>경상북도</td>\n",
       "      <td>국민임대</td>\n",
       "      <td>51.9</td>\n",
       "      <td>15</td>\n",
       "      <td>38.0</td>\n",
       "      <td>A</td>\n",
       "      <td>27304000.0</td>\n",
       "      <td>184330.0</td>\n",
       "      <td>0.0</td>\n",
       "      <td>3.0</td>\n",
       "      <td>1425.0</td>\n",
       "      <td>1015.0</td>\n",
       "    </tr>\n",
       "    <tr>\n",
       "      <th>4</th>\n",
       "      <td>C2483</td>\n",
       "      <td>900</td>\n",
       "      <td>1</td>\n",
       "      <td>경상북도</td>\n",
       "      <td>국민임대</td>\n",
       "      <td>51.9</td>\n",
       "      <td>41</td>\n",
       "      <td>38.0</td>\n",
       "      <td>A</td>\n",
       "      <td>27304000.0</td>\n",
       "      <td>184330.0</td>\n",
       "      <td>0.0</td>\n",
       "      <td>3.0</td>\n",
       "      <td>1425.0</td>\n",
       "      <td>1015.0</td>\n",
       "    </tr>\n",
       "  </tbody>\n",
       "</table>\n",
       "</div>"
      ],
      "text/plain": [
       "    단지코드  총세대수  임대건물구분    지역  공급유형  전용면적  전용면적별세대수  공가수 자격유형      임대보증금  \\\n",
       "0  C2483   900       1  경상북도  국민임대  39.7       134 38.0    A 15667000.0   \n",
       "1  C2483   900       1  경상북도  국민임대  39.7        15 38.0    A 15667000.0   \n",
       "2  C2483   900       1  경상북도  국민임대  51.9       385 38.0    A 27304000.0   \n",
       "3  C2483   900       1  경상북도  국민임대  51.9        15 38.0    A 27304000.0   \n",
       "4  C2483   900       1  경상북도  국민임대  51.9        41 38.0    A 27304000.0   \n",
       "\n",
       "       임대료  도보 10분거리 내 지하철역 수(환승노선 수 반영)  도보 10분거리 내 버스정류장 수  단지내주차면수  등록차량수  \n",
       "0 103680.0                           0.0                 3.0   1425.0 1015.0  \n",
       "1 103680.0                           0.0                 3.0   1425.0 1015.0  \n",
       "2 184330.0                           0.0                 3.0   1425.0 1015.0  \n",
       "3 184330.0                           0.0                 3.0   1425.0 1015.0  \n",
       "4 184330.0                           0.0                 3.0   1425.0 1015.0  "
      ]
     },
     "execution_count": 13,
     "metadata": {},
     "output_type": "execute_result"
    }
   ],
   "source": [
    "# 아파트 => 1, 상가 => 1\n",
    "train.head()"
   ]
  },
  {
   "cell_type": "code",
   "execution_count": 31,
   "id": "9fad18ec-e953-4fac-8317-b1c6785d2a0a",
   "metadata": {},
   "outputs": [],
   "source": [
    "apartment = train[train['임대건물구분'] == 1]"
   ]
  },
  {
   "cell_type": "code",
   "execution_count": 32,
   "id": "24f0ca89-fbb7-4dde-a806-885001cc0f46",
   "metadata": {},
   "outputs": [],
   "source": [
    "store = train[train['임대건물구분'] < 1]"
   ]
  },
  {
   "cell_type": "code",
   "execution_count": 33,
   "id": "3805a84d-5488-470a-91e1-8866dc613dc1",
   "metadata": {},
   "outputs": [
    {
     "data": {
      "text/plain": [
       "((2390, 15), (562, 15))"
      ]
     },
     "execution_count": 33,
     "metadata": {},
     "output_type": "execute_result"
    }
   ],
   "source": [
    "apartment.shape, store.shape"
   ]
  },
  {
   "cell_type": "code",
   "execution_count": null,
   "id": "17d7ea5a-cd6a-4c60-ac66-643381f58c32",
   "metadata": {},
   "outputs": [],
   "source": []
  },
  {
   "cell_type": "markdown",
   "id": "31315805-9e66-4642-bd5c-bd82ad53e0b3",
   "metadata": {},
   "source": [
    "# 결측치 처리"
   ]
  },
  {
   "cell_type": "markdown",
   "id": "01e04fd0-8f1d-4344-a8dc-d2c9885bb562",
   "metadata": {},
   "source": [
    "## 임대보증금 결측값 처리"
   ]
  },
  {
   "cell_type": "code",
   "execution_count": 39,
   "id": "01371fa1-055d-4ea5-a702-c5e331511e85",
   "metadata": {},
   "outputs": [
    {
     "name": "stdout",
     "output_type": "stream",
     "text": [
      "Index(['강원도', '경기도', '경상남도', '경상북도', '광주광역시', '대구광역시', '대전광역시', '부산광역시',\n",
      "       '서울특별시', '세종특별자치시', '울산광역시', '전라남도', '전라북도', '제주특별자치도', '충청남도', '충청북도'],\n",
      "      dtype='object', name='지역')\n",
      "[18005500.         32726694.04186796 21923533.08823529 19863428.57142857\n",
      " 28588851.06382979 26995212.12121212 23559582.19178083 23786718.44660194\n",
      " 87293234.375      46912765.95744681 27965250.         15928927.15231788\n",
      " 19154669.72477064 17339196.96969697 19085356.09756098 22785411.04294479]\n"
     ]
    }
   ],
   "source": [
    "# 아파트\n",
    "\n",
    "local_rent_mean = apartment.groupby('지역')['임대보증금'].mean()\n",
    "local = list(local_rent_mean.index)\n",
    "print(local_rent_mean.index)\n",
    "print(local_rent_mean.values)\n",
    "\n",
    "# 상가(????? 상가들은 임대료 임대보증금이 없음 여기에  아파트 평균을 넣는건 미친짓) 따라서 아파트\n",
    "#local_rent_mean = train_store.groupby('지역')['임대보증금'].mean()\n",
    "#local = list(local_rent_mean.index)\n",
    "#print(local_rent_mean.index)\n",
    "#print(local_rent_mean.values)"
   ]
  },
  {
   "cell_type": "code",
   "execution_count": 35,
   "id": "fc08f3b9-29bf-485f-9cff-7844db06a70d",
   "metadata": {},
   "outputs": [
    {
     "data": {
      "text/html": [
       "<div>\n",
       "<style scoped>\n",
       "    .dataframe tbody tr th:only-of-type {\n",
       "        vertical-align: middle;\n",
       "    }\n",
       "\n",
       "    .dataframe tbody tr th {\n",
       "        vertical-align: top;\n",
       "    }\n",
       "\n",
       "    .dataframe thead th {\n",
       "        text-align: right;\n",
       "    }\n",
       "</style>\n",
       "<table border=\"1\" class=\"dataframe\">\n",
       "  <thead>\n",
       "    <tr style=\"text-align: right;\">\n",
       "      <th></th>\n",
       "      <th>단지코드</th>\n",
       "      <th>총세대수</th>\n",
       "      <th>임대건물구분</th>\n",
       "      <th>공급유형</th>\n",
       "      <th>전용면적</th>\n",
       "      <th>전용면적별세대수</th>\n",
       "      <th>공가수</th>\n",
       "      <th>자격유형</th>\n",
       "      <th>임대보증금</th>\n",
       "      <th>임대료</th>\n",
       "      <th>도보 10분거리 내 지하철역 수(환승노선 수 반영)</th>\n",
       "      <th>도보 10분거리 내 버스정류장 수</th>\n",
       "      <th>단지내주차면수</th>\n",
       "      <th>등록차량수</th>\n",
       "    </tr>\n",
       "    <tr>\n",
       "      <th>지역</th>\n",
       "      <th></th>\n",
       "      <th></th>\n",
       "      <th></th>\n",
       "      <th></th>\n",
       "      <th></th>\n",
       "      <th></th>\n",
       "      <th></th>\n",
       "      <th></th>\n",
       "      <th></th>\n",
       "      <th></th>\n",
       "      <th></th>\n",
       "      <th></th>\n",
       "      <th></th>\n",
       "      <th></th>\n",
       "    </tr>\n",
       "  </thead>\n",
       "  <tbody>\n",
       "    <tr>\n",
       "      <th>강원도</th>\n",
       "      <td>31</td>\n",
       "      <td>31</td>\n",
       "      <td>31</td>\n",
       "      <td>31</td>\n",
       "      <td>31</td>\n",
       "      <td>31</td>\n",
       "      <td>31</td>\n",
       "      <td>31</td>\n",
       "      <td>0</td>\n",
       "      <td>0</td>\n",
       "      <td>31</td>\n",
       "      <td>31</td>\n",
       "      <td>31</td>\n",
       "      <td>31</td>\n",
       "    </tr>\n",
       "    <tr>\n",
       "      <th>경상남도</th>\n",
       "      <td>97</td>\n",
       "      <td>97</td>\n",
       "      <td>97</td>\n",
       "      <td>97</td>\n",
       "      <td>97</td>\n",
       "      <td>97</td>\n",
       "      <td>97</td>\n",
       "      <td>97</td>\n",
       "      <td>0</td>\n",
       "      <td>0</td>\n",
       "      <td>97</td>\n",
       "      <td>97</td>\n",
       "      <td>97</td>\n",
       "      <td>97</td>\n",
       "    </tr>\n",
       "    <tr>\n",
       "      <th>대전광역시</th>\n",
       "      <td>113</td>\n",
       "      <td>113</td>\n",
       "      <td>113</td>\n",
       "      <td>113</td>\n",
       "      <td>113</td>\n",
       "      <td>113</td>\n",
       "      <td>113</td>\n",
       "      <td>113</td>\n",
       "      <td>0</td>\n",
       "      <td>0</td>\n",
       "      <td>62</td>\n",
       "      <td>113</td>\n",
       "      <td>113</td>\n",
       "      <td>113</td>\n",
       "    </tr>\n",
       "    <tr>\n",
       "      <th>부산광역시</th>\n",
       "      <td>220</td>\n",
       "      <td>220</td>\n",
       "      <td>220</td>\n",
       "      <td>220</td>\n",
       "      <td>220</td>\n",
       "      <td>220</td>\n",
       "      <td>220</td>\n",
       "      <td>220</td>\n",
       "      <td>0</td>\n",
       "      <td>0</td>\n",
       "      <td>220</td>\n",
       "      <td>220</td>\n",
       "      <td>220</td>\n",
       "      <td>220</td>\n",
       "    </tr>\n",
       "    <tr>\n",
       "      <th>제주특별자치도</th>\n",
       "      <td>25</td>\n",
       "      <td>25</td>\n",
       "      <td>25</td>\n",
       "      <td>25</td>\n",
       "      <td>25</td>\n",
       "      <td>25</td>\n",
       "      <td>25</td>\n",
       "      <td>25</td>\n",
       "      <td>0</td>\n",
       "      <td>0</td>\n",
       "      <td>25</td>\n",
       "      <td>25</td>\n",
       "      <td>25</td>\n",
       "      <td>25</td>\n",
       "    </tr>\n",
       "    <tr>\n",
       "      <th>충청남도</th>\n",
       "      <td>76</td>\n",
       "      <td>76</td>\n",
       "      <td>76</td>\n",
       "      <td>76</td>\n",
       "      <td>76</td>\n",
       "      <td>76</td>\n",
       "      <td>76</td>\n",
       "      <td>76</td>\n",
       "      <td>0</td>\n",
       "      <td>0</td>\n",
       "      <td>0</td>\n",
       "      <td>76</td>\n",
       "      <td>76</td>\n",
       "      <td>76</td>\n",
       "    </tr>\n",
       "  </tbody>\n",
       "</table>\n",
       "</div>"
      ],
      "text/plain": [
       "         단지코드  총세대수  임대건물구분  공급유형  전용면적  전용면적별세대수  공가수  자격유형  임대보증금  임대료  \\\n",
       "지역                                                                         \n",
       "강원도        31    31      31    31    31        31   31    31      0    0   \n",
       "경상남도       97    97      97    97    97        97   97    97      0    0   \n",
       "대전광역시     113   113     113   113   113       113  113   113      0    0   \n",
       "부산광역시     220   220     220   220   220       220  220   220      0    0   \n",
       "제주특별자치도    25    25      25    25    25        25   25    25      0    0   \n",
       "충청남도       76    76      76    76    76        76   76    76      0    0   \n",
       "\n",
       "         도보 10분거리 내 지하철역 수(환승노선 수 반영)  도보 10분거리 내 버스정류장 수  단지내주차면수  등록차량수  \n",
       "지역                                                                         \n",
       "강원도                                31                  31       31     31  \n",
       "경상남도                               97                  97       97     97  \n",
       "대전광역시                              62                 113      113    113  \n",
       "부산광역시                             220                 220      220    220  \n",
       "제주특별자치도                            25                  25       25     25  \n",
       "충청남도                                0                  76       76     76  "
      ]
     },
     "execution_count": 35,
     "metadata": {},
     "output_type": "execute_result"
    }
   ],
   "source": [
    "store.groupby('지역').count()"
   ]
  },
  {
   "cell_type": "code",
   "execution_count": 40,
   "id": "51203d60-08e3-4738-ac44-ebfadff2e317",
   "metadata": {},
   "outputs": [
    {
     "name": "stdout",
     "output_type": "stream",
     "text": [
      "{'강원도': 18005500.0, '경기도': 32726694.041867957, '경상남도': 21923533.088235293, '경상북도': 19863428.57142857, '광주광역시': 28588851.063829787, '대구광역시': 26995212.121212117, '대전광역시': 23559582.19178083, '부산광역시': 23786718.44660194, '서울특별시': 87293234.375, '세종특별자치시': 46912765.957446806, '울산광역시': 27965250.0, '전라남도': 15928927.152317882, '전라북도': 19154669.724770643, '제주특별자치도': 17339196.96969697, '충청남도': 19085356.097560976, '충청북도': 22785411.042944785}\n"
     ]
    }
   ],
   "source": [
    "#아파트\n",
    "dic_local_rent = {}\n",
    "for i in zip(local, local_rent_mean.values):\n",
    "    dic_local_rent[i[0]] = i[1]\n",
    "print(dic_local_rent)"
   ]
  },
  {
   "cell_type": "code",
   "execution_count": 41,
   "id": "011518e0-1790-4c6f-a440-93bafa9fb76c",
   "metadata": {},
   "outputs": [],
   "source": [
    "# 결측치 채우기\n",
    "for local in dic_local_rent.keys():\n",
    "    apartment.loc[apartment['지역'] == local, '임대보증금'] = apartment.loc[apartment['지역'] == local, '임대보증금'].fillna(dic_local_rent[local])"
   ]
  },
  {
   "cell_type": "code",
   "execution_count": 42,
   "id": "1901f7cc-70e3-4bcc-b2f6-56795cf70142",
   "metadata": {},
   "outputs": [
    {
     "name": "stdout",
     "output_type": "stream",
     "text": [
      "지역\n",
      "강원도       18005500.0\n",
      "경기도       32726694.0\n",
      "경상남도      21923533.1\n",
      "경상북도      19863428.6\n",
      "광주광역시     28588851.1\n",
      "대구광역시     26995212.1\n",
      "대전광역시     23559582.2\n",
      "부산광역시     23786718.4\n",
      "서울특별시     87293234.4\n",
      "세종특별자치시   46912766.0\n",
      "울산광역시     27965250.0\n",
      "전라남도      15928927.2\n",
      "전라북도      19154669.7\n",
      "제주특별자치도   17339197.0\n",
      "충청남도      19085356.1\n",
      "충청북도      22785411.0\n",
      "Name: 임대보증금, dtype: float64\n"
     ]
    },
    {
     "data": {
      "text/plain": [
       "(단지코드                             0\n",
       " 총세대수                             0\n",
       " 임대건물구분                           0\n",
       " 지역                               0\n",
       " 공급유형                             0\n",
       " 전용면적                             0\n",
       " 전용면적별세대수                         0\n",
       " 공가수                              0\n",
       " 자격유형                             0\n",
       " 임대보증금                            0\n",
       " 임대료                             28\n",
       " 도보 10분거리 내 지하철역 수(환승노선 수 반영)    84\n",
       " 도보 10분거리 내 버스정류장 수               4\n",
       " 단지내주차면수                          0\n",
       " 등록차량수                            0\n",
       " dtype: int64,\n",
       " None)"
      ]
     },
     "execution_count": 42,
     "metadata": {},
     "output_type": "execute_result"
    }
   ],
   "source": [
    "# 평균값으로 들어갔는지 확인 및 결측치 채워진거 확인\n",
    "apartment.isna().sum(), print(local_rent_mean)"
   ]
  },
  {
   "cell_type": "markdown",
   "id": "841c0603-9bdc-4719-b0c9-a3fa257efaca",
   "metadata": {},
   "source": [
    "## 임대료 결측값 처리"
   ]
  },
  {
   "cell_type": "code",
   "execution_count": 43,
   "id": "4dcbc3d4-660c-4908-9743-eff9c4a02e9a",
   "metadata": {},
   "outputs": [
    {
     "name": "stdout",
     "output_type": "stream",
     "text": [
      "Index(['강원도', '경기도', '경상남도', '경상북도', '광주광역시', '대구광역시', '대전광역시', '부산광역시',\n",
      "       '서울특별시', '세종특별자치시', '울산광역시', '전라남도', '전라북도', '제주특별자치도', '충청남도', '충청북도'],\n",
      "      dtype='object', name='지역')\n",
      "[183339.27631579 226381.88405797 165003.05147059 147809.32773109\n",
      " 163677.73049645 263120.1010101  173557.80821918 200043.49514563\n",
      " 430110.18181818 492170.21276596 219009.16666667 132250.\n",
      " 134853.30275229 158130.45454545 120378.29268293 163466.87116564]\n"
     ]
    }
   ],
   "source": [
    "local_fee_mean = apartment.groupby('지역')['임대료'].mean()\n",
    "local = list(local_fee_mean.index)\n",
    "print(local_fee_mean.index)\n",
    "print(local_fee_mean.values)"
   ]
  },
  {
   "cell_type": "code",
   "execution_count": 44,
   "id": "5a94f679-8945-4248-8e4a-b67123f4d9f5",
   "metadata": {},
   "outputs": [
    {
     "name": "stdout",
     "output_type": "stream",
     "text": [
      "{'강원도': 183339.27631578947, '경기도': 226381.884057971, '경상남도': 165003.05147058822, '경상북도': 147809.32773109243, '광주광역시': 163677.7304964539, '대구광역시': 263120.10101010103, '대전광역시': 173557.80821917808, '부산광역시': 200043.49514563108, '서울특별시': 430110.1818181818, '세종특별자치시': 492170.21276595746, '울산광역시': 219009.16666666666, '전라남도': 132250.0, '전라북도': 134853.3027522936, '제주특별자치도': 158130.45454545456, '충청남도': 120378.29268292683, '충청북도': 163466.87116564417}\n"
     ]
    }
   ],
   "source": [
    "dic_local_fee = {}\n",
    "for i in zip(local, local_fee_mean.values):\n",
    "    dic_local_fee[i[0]] = i[1]\n",
    "print(dic_local_fee)"
   ]
  },
  {
   "cell_type": "code",
   "execution_count": 45,
   "id": "f8e2e5a3-1f40-4571-adf8-4030ebcfff70",
   "metadata": {},
   "outputs": [],
   "source": [
    "# 결측치 채우기\n",
    "for local in dic_local_fee.keys():\n",
    "    apartment.loc[apartment['지역'] == local, '임대료'] = apartment.loc[apartment['지역'] == local, '임대료'].fillna(dic_local_fee[local])"
   ]
  },
  {
   "cell_type": "code",
   "execution_count": 46,
   "id": "a82c9329-e858-4067-979a-2223808c313a",
   "metadata": {},
   "outputs": [
    {
     "name": "stdout",
     "output_type": "stream",
     "text": [
      "지역\n",
      "강원도       183339.3\n",
      "경기도       226381.9\n",
      "경상남도      165003.1\n",
      "경상북도      147809.3\n",
      "광주광역시     163677.7\n",
      "대구광역시     263120.1\n",
      "대전광역시     173557.8\n",
      "부산광역시     200043.5\n",
      "서울특별시     430110.2\n",
      "세종특별자치시   492170.2\n",
      "울산광역시     219009.2\n",
      "전라남도      132250.0\n",
      "전라북도      134853.3\n",
      "제주특별자치도   158130.5\n",
      "충청남도      120378.3\n",
      "충청북도      163466.9\n",
      "Name: 임대료, dtype: float64\n"
     ]
    },
    {
     "data": {
      "text/plain": [
       "(단지코드                             0\n",
       " 총세대수                             0\n",
       " 임대건물구분                           0\n",
       " 지역                               0\n",
       " 공급유형                             0\n",
       " 전용면적                             0\n",
       " 전용면적별세대수                         0\n",
       " 공가수                              0\n",
       " 자격유형                             0\n",
       " 임대보증금                            0\n",
       " 임대료                              0\n",
       " 도보 10분거리 내 지하철역 수(환승노선 수 반영)    84\n",
       " 도보 10분거리 내 버스정류장 수               4\n",
       " 단지내주차면수                          0\n",
       " 등록차량수                            0\n",
       " dtype: int64,\n",
       " None)"
      ]
     },
     "execution_count": 46,
     "metadata": {},
     "output_type": "execute_result"
    }
   ],
   "source": [
    "# 평균값으로 들어갔는지 확인 및 결측치 채워진거 확인\n",
    "apartment.isna().sum(), print(local_fee_mean)"
   ]
  },
  {
   "cell_type": "code",
   "execution_count": 47,
   "id": "822f9b63-b702-4d56-b7cf-38b7a5fd0f3b",
   "metadata": {},
   "outputs": [
    {
     "data": {
      "text/plain": [
       "<AxesSubplot:>"
      ]
     },
     "execution_count": 47,
     "metadata": {},
     "output_type": "execute_result"
    },
    {
     "data": {
      "image/png": "[encoded data removed]",
      "text/plain": [
       "<Figure size 720x720 with 2 Axes>"
      ]
     },
     "metadata": {
      "needs_background": "light"
     },
     "output_type": "display_data"
    }
   ],
   "source": [
    "plt.figure(figsize=(10,10))\n",
    "sns.heatmap(apartment.corr(), annot=True)"
   ]
  },
  {
   "cell_type": "code",
   "execution_count": 48,
   "id": "cecc2ca6-6a01-4784-a5cf-05aeaddc7f85",
   "metadata": {},
   "outputs": [
    {
     "data": {
      "image/png": "[encoded data removed]",
      "text/plain": [
       "<Figure size 432x288 with 1 Axes>"
      ]
     },
     "metadata": {
      "needs_background": "light"
     },
     "output_type": "display_data"
    },
    {
     "data": {
      "image/png": "[encoded data removed]",
      "text/plain": [
       "<Figure size 432x288 with 1 Axes>"
      ]
     },
     "metadata": {
      "needs_background": "light"
     },
     "output_type": "display_data"
    },
    {
     "data": {
      "image/png": "[encoded data removed]",
      "text/plain": [
       "<Figure size 432x288 with 1 Axes>"
      ]
     },
     "metadata": {
      "needs_background": "light"
     },
     "output_type": "display_data"
    },
    {
     "data": {
      "image/png": "[encoded data removed]",
      "text/plain": [
       "<Figure size 432x288 with 1 Axes>"
      ]
     },
     "metadata": {
      "needs_background": "light"
     },
     "output_type": "display_data"
    },
    {
     "data": {
      "image/png": "[encoded data removed]",
      "text/plain": [
       "<Figure size 432x288 with 1 Axes>"
      ]
     },
     "metadata": {
      "needs_background": "light"
     },
     "output_type": "display_data"
    },
    {
     "data": {
      "image/png": "[encoded data removed]",
      "text/plain": [
       "<Figure size 432x288 with 1 Axes>"
      ]
     },
     "metadata": {
      "needs_background": "light"
     },
     "output_type": "display_data"
    },
    {
     "data": {
      "image/png": "[encoded data removed]",
      "text/plain": [
       "<Figure size 432x288 with 1 Axes>"
      ]
     },
     "metadata": {
      "needs_background": "light"
     },
     "output_type": "display_data"
    },
    {
     "data": {
      "image/png": "[encoded data removed]",
      "text/plain": [
       "<Figure size 432x288 with 1 Axes>"
      ]
     },
     "metadata": {
      "needs_background": "light"
     },
     "output_type": "display_data"
    },
    {
     "data": {
      "image/png": "[encoded data removed]",
      "text/plain": [
       "<Figure size 432x288 with 1 Axes>"
      ]
     },
     "metadata": {
      "needs_background": "light"
     },
     "output_type": "display_data"
    },
    {
     "data": {
      "image/png": "[encoded data removed]",
      "text/plain": [
       "<Figure size 432x288 with 1 Axes>"
      ]
     },
     "metadata": {
      "needs_background": "light"
     },
     "output_type": "display_data"
    },
    {
     "data": {
      "image/png": "[encoded data removed]",
      "text/plain": [
       "<Figure size 432x288 with 1 Axes>"
      ]
     },
     "metadata": {
      "needs_background": "light"
     },
     "output_type": "display_data"
    },
    {
     "data": {
      "image/png": "[encoded data removed]",
      "text/plain": [
       "<Figure size 432x288 with 1 Axes>"
      ]
     },
     "metadata": {
      "needs_background": "light"
     },
     "output_type": "display_data"
    },
    {
     "data": {
      "image/png": "[encoded data removed]",
      "text/plain": [
       "<Figure size 432x288 with 1 Axes>"
      ]
     },
     "metadata": {
      "needs_background": "light"
     },
     "output_type": "display_data"
    },
    {
     "data": {
      "image/png": "[encoded data removed]",
      "text/plain": [
       "<Figure size 432x288 with 1 Axes>"
      ]
     },
     "metadata": {
      "needs_background": "light"
     },
     "output_type": "display_data"
    },
    {
     "data": {
      "image/png": "[encoded data removed]",
      "text/plain": [
       "<Figure size 432x288 with 1 Axes>"
      ]
     },
     "metadata": {
      "needs_background": "light"
     },
     "output_type": "display_data"
    }
   ],
   "source": [
    "for column in apartment.columns:\n",
    "    sns.histplot(data= apartment, x = apartment[column], bins=20)\n",
    "    plt.xticks(rotation = 270)\n",
    "    plt.show()"
   ]
  },
  {
   "cell_type": "code",
   "execution_count": 49,
   "id": "febb7621-e2e3-4383-97ec-c7e94b30c1f9",
   "metadata": {},
   "outputs": [
    {
     "data": {
      "text/html": [
       "<div>\n",
       "<style scoped>\n",
       "    .dataframe tbody tr th:only-of-type {\n",
       "        vertical-align: middle;\n",
       "    }\n",
       "\n",
       "    .dataframe tbody tr th {\n",
       "        vertical-align: top;\n",
       "    }\n",
       "\n",
       "    .dataframe thead th {\n",
       "        text-align: right;\n",
       "    }\n",
       "</style>\n",
       "<table border=\"1\" class=\"dataframe\">\n",
       "  <thead>\n",
       "    <tr style=\"text-align: right;\">\n",
       "      <th></th>\n",
       "      <th>총세대수</th>\n",
       "      <th>임대건물구분</th>\n",
       "      <th>전용면적</th>\n",
       "      <th>전용면적별세대수</th>\n",
       "      <th>공가수</th>\n",
       "      <th>임대보증금</th>\n",
       "      <th>임대료</th>\n",
       "      <th>도보 10분거리 내 지하철역 수(환승노선 수 반영)</th>\n",
       "      <th>도보 10분거리 내 버스정류장 수</th>\n",
       "      <th>단지내주차면수</th>\n",
       "      <th>등록차량수</th>\n",
       "    </tr>\n",
       "  </thead>\n",
       "  <tbody>\n",
       "    <tr>\n",
       "      <th>count</th>\n",
       "      <td>2390.0</td>\n",
       "      <td>2390.0</td>\n",
       "      <td>2390.0</td>\n",
       "      <td>2390.0</td>\n",
       "      <td>2390.0</td>\n",
       "      <td>2390.0</td>\n",
       "      <td>2390.0</td>\n",
       "      <td>2306.0</td>\n",
       "      <td>2386.0</td>\n",
       "      <td>2390.0</td>\n",
       "      <td>2390.0</td>\n",
       "    </tr>\n",
       "    <tr>\n",
       "      <th>mean</th>\n",
       "      <td>801.8</td>\n",
       "      <td>1.0</td>\n",
       "      <td>44.6</td>\n",
       "      <td>126.7</td>\n",
       "      <td>14.2</td>\n",
       "      <td>26833538.3</td>\n",
       "      <td>196608.8</td>\n",
       "      <td>0.1</td>\n",
       "      <td>3.7</td>\n",
       "      <td>680.2</td>\n",
       "      <td>654.2</td>\n",
       "    </tr>\n",
       "    <tr>\n",
       "      <th>std</th>\n",
       "      <td>432.7</td>\n",
       "      <td>0.0</td>\n",
       "      <td>13.3</td>\n",
       "      <td>136.8</td>\n",
       "      <td>10.5</td>\n",
       "      <td>21532021.8</td>\n",
       "      <td>130429.7</td>\n",
       "      <td>0.4</td>\n",
       "      <td>2.7</td>\n",
       "      <td>392.8</td>\n",
       "      <td>427.3</td>\n",
       "    </tr>\n",
       "    <tr>\n",
       "      <th>min</th>\n",
       "      <td>26.0</td>\n",
       "      <td>1.0</td>\n",
       "      <td>16.0</td>\n",
       "      <td>2.0</td>\n",
       "      <td>0.0</td>\n",
       "      <td>3056000.0</td>\n",
       "      <td>16650.0</td>\n",
       "      <td>0.0</td>\n",
       "      <td>0.0</td>\n",
       "      <td>13.0</td>\n",
       "      <td>13.0</td>\n",
       "    </tr>\n",
       "    <tr>\n",
       "      <th>25%</th>\n",
       "      <td>492.0</td>\n",
       "      <td>1.0</td>\n",
       "      <td>36.6</td>\n",
       "      <td>38.0</td>\n",
       "      <td>7.0</td>\n",
       "      <td>14418000.0</td>\n",
       "      <td>111090.0</td>\n",
       "      <td>0.0</td>\n",
       "      <td>2.0</td>\n",
       "      <td>385.0</td>\n",
       "      <td>358.0</td>\n",
       "    </tr>\n",
       "    <tr>\n",
       "      <th>50%</th>\n",
       "      <td>749.0</td>\n",
       "      <td>1.0</td>\n",
       "      <td>46.6</td>\n",
       "      <td>88.0</td>\n",
       "      <td>13.0</td>\n",
       "      <td>21019500.0</td>\n",
       "      <td>162120.0</td>\n",
       "      <td>0.0</td>\n",
       "      <td>3.0</td>\n",
       "      <td>629.0</td>\n",
       "      <td>568.0</td>\n",
       "    </tr>\n",
       "    <tr>\n",
       "      <th>75%</th>\n",
       "      <td>1013.0</td>\n",
       "      <td>1.0</td>\n",
       "      <td>51.9</td>\n",
       "      <td>167.8</td>\n",
       "      <td>21.0</td>\n",
       "      <td>32443000.0</td>\n",
       "      <td>237697.5</td>\n",
       "      <td>0.0</td>\n",
       "      <td>4.0</td>\n",
       "      <td>891.0</td>\n",
       "      <td>831.0</td>\n",
       "    </tr>\n",
       "    <tr>\n",
       "      <th>max</th>\n",
       "      <td>2568.0</td>\n",
       "      <td>1.0</td>\n",
       "      <td>85.0</td>\n",
       "      <td>1865.0</td>\n",
       "      <td>55.0</td>\n",
       "      <td>216423000.0</td>\n",
       "      <td>1058030.0</td>\n",
       "      <td>3.0</td>\n",
       "      <td>20.0</td>\n",
       "      <td>1798.0</td>\n",
       "      <td>2550.0</td>\n",
       "    </tr>\n",
       "  </tbody>\n",
       "</table>\n",
       "</div>"
      ],
      "text/plain": [
       "        총세대수  임대건물구분   전용면적  전용면적별세대수    공가수       임대보증금       임대료  \\\n",
       "count 2390.0  2390.0 2390.0    2390.0 2390.0      2390.0    2390.0   \n",
       "mean   801.8     1.0   44.6     126.7   14.2  26833538.3  196608.8   \n",
       "std    432.7     0.0   13.3     136.8   10.5  21532021.8  130429.7   \n",
       "min     26.0     1.0   16.0       2.0    0.0   3056000.0   16650.0   \n",
       "25%    492.0     1.0   36.6      38.0    7.0  14418000.0  111090.0   \n",
       "50%    749.0     1.0   46.6      88.0   13.0  21019500.0  162120.0   \n",
       "75%   1013.0     1.0   51.9     167.8   21.0  32443000.0  237697.5   \n",
       "max   2568.0     1.0   85.0    1865.0   55.0 216423000.0 1058030.0   \n",
       "\n",
       "       도보 10분거리 내 지하철역 수(환승노선 수 반영)  도보 10분거리 내 버스정류장 수  단지내주차면수  등록차량수  \n",
       "count                        2306.0              2386.0   2390.0 2390.0  \n",
       "mean                            0.1                 3.7    680.2  654.2  \n",
       "std                             0.4                 2.7    392.8  427.3  \n",
       "min                             0.0                 0.0     13.0   13.0  \n",
       "25%                             0.0                 2.0    385.0  358.0  \n",
       "50%                             0.0                 3.0    629.0  568.0  \n",
       "75%                             0.0                 4.0    891.0  831.0  \n",
       "max                             3.0                20.0   1798.0 2550.0  "
      ]
     },
     "execution_count": 49,
     "metadata": {},
     "output_type": "execute_result"
    }
   ],
   "source": [
    "apartment.describe()"
   ]
  },
  {
   "cell_type": "markdown",
   "id": "5bc5a180-d38e-40a8-adc4-645598782601",
   "metadata": {},
   "source": []
  },
  {
   "cell_type": "code",
   "execution_count": null,
   "id": "2140e22c-bc1c-42c2-9adf-999fb909b4dd",
   "metadata": {},
   "outputs": [],
   "source": []
  },
  {
   "cell_type": "code",
   "execution_count": null,
   "id": "58499919-ba8a-4a46-8c30-a6b8aa2abcb8",
   "metadata": {},
   "outputs": [],
   "source": []
  }
 ],
 "metadata": {
  "kernelspec": {
   "display_name": "Python 3",
   "language": "python",
   "name": "python3"
  },
  "language_info": {
   "codemirror_mode": {
    "name": "ipython",
    "version": 3
   },
   "file_extension": ".py",
   "mimetype": "text/x-python",
   "name": "python",
   "nbconvert_exporter": "python",
   "pygments_lexer": "ipython3",
   "version": "3.8.8"
  }
 },
 "nbformat": 4,
 "nbformat_minor": 5
}
